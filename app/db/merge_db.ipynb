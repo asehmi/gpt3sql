{
 "cells": [
  {
   "cell_type": "markdown",
   "metadata": {},
   "source": [
    "Merge `GPT-3 log` data between 2 sqlite databases"
   ]
  },
  {
   "cell_type": "code",
   "execution_count": 1,
   "metadata": {},
   "outputs": [],
   "source": [
    "import sqlite3\n",
    "import pandas as pd\n",
    "\n",
    "DELIMITOR = \",\"\n",
    "\n",
    "class DBConn(object):\n",
    "    def __init__(self, db_file):\n",
    "        self.conn = sqlite3.connect(db_file)\n",
    "    def __enter__(self):\n",
    "        return self.conn\n",
    "    def __exit__(self, type, value, traceback):\n",
    "        self.conn.close()\n",
    "\n",
    "def get_data(db_file, table_name):\n",
    "    with DBConn(db_file) as _conn:\n",
    "        sql_stmt = f'''\n",
    "        SELECT uuid||'{DELIMITOR}'||ts as uuid_ts from {table_name};\n",
    "        '''\n",
    "        return pd.read_sql(sql_stmt, _conn)\n",
    "\n",
    "def list2sql_str(l):\n",
    "    \"\"\"convert a list into SQL in string\n",
    "    \"\"\"\n",
    "    return str(l).replace(\"[\", \"(\").replace(\"]\", \")\")\n",
    "\n",
    "def merge_logs(src_db, tgt_db=\"gpt3sql.sqlite\", table_name=\"t_gpt3_log\"):\n",
    "    \n",
    "    df_src = get_data(src_db, table_name)\n",
    "    df_tgt = get_data(tgt_db, table_name)\n",
    "\n",
    "    uuid_ts_src = df_src[\"uuid_ts\"].to_list()\n",
    "    uuid_ts_tgt = df_tgt[\"uuid_ts\"].to_list()\n",
    "\n",
    "    uuid_update = [i.split(DELIMITOR)[0] for i in (set(uuid_ts_src) - set(uuid_ts_tgt))]\n",
    "\n",
    "    if uuid_update:\n",
    "\n",
    "        # fetch new/updated row from src\n",
    "        with DBConn(src_db) as _conn:\n",
    "            sql_stmt = f'''\n",
    "            SELECT * from {table_name} where uuid in {list2sql_str(uuid_update)} ;\n",
    "            '''\n",
    "            df_src = pd.read_sql(sql_stmt, _conn)\n",
    "\n",
    "        with DBConn(tgt_db) as _conn:\n",
    "            # remove old rows in tgt\n",
    "            delete_sql = f\"\"\"\n",
    "                delete from {table_name} where uuid in {list2sql_str(uuid_update)} ;\n",
    "            \"\"\"\n",
    "            cur = _conn.cursor()\n",
    "            cur.executescript(delete_sql)\n",
    "            _conn.commit()\n",
    "\n",
    "            # append to tgt\n",
    "            df_src.to_sql(table_name, _conn, if_exists='append', index=False)\n",
    "            _conn.commit()  \n",
    "\n",
    "    return uuid_update"
   ]
  },
  {
   "cell_type": "code",
   "execution_count": 2,
   "metadata": {},
   "outputs": [
    {
     "name": "stdout",
     "output_type": "stream",
     "text": [
      "['aab944b6-1b07-4738-92b8-230564ad49c0', '78d7f638-0b42-415a-a5b8-b093135a6034', '600d4d62-b165-43bd-85e0-dc962f50c3cd', 'b2e174f1-82a6-470b-ad4e-1967e142687f', 'fc2fed9c-af94-4098-b011-c5995fd5fb41', '90461d42-44bb-4028-9eef-123b34c84e61', '757a57d4-e7b0-4159-a6a0-abd961511498']\n"
     ]
    }
   ],
   "source": [
    "src_db = \"gpt3sql-20221123.sqlite\"\n",
    "uuid_update = merge_logs(src_db)\n",
    "print(uuid_update)"
   ]
  },
  {
   "cell_type": "code",
   "execution_count": null,
   "metadata": {},
   "outputs": [],
   "source": []
  }
 ],
 "metadata": {
  "kernelspec": {
   "display_name": "Python 3",
   "language": "python",
   "name": "python3"
  },
  "language_info": {
   "codemirror_mode": {
    "name": "ipython",
    "version": 3
   },
   "file_extension": ".py",
   "mimetype": "text/x-python",
   "name": "python",
   "nbconvert_exporter": "python",
   "pygments_lexer": "ipython3",
   "version": "3.8.5"
  },
  "toc": {
   "base_numbering": 1,
   "nav_menu": {},
   "number_sections": true,
   "sideBar": true,
   "skip_h1_title": false,
   "title_cell": "Table of Contents",
   "title_sidebar": "Contents",
   "toc_cell": false,
   "toc_position": {},
   "toc_section_display": true,
   "toc_window_display": false
  }
 },
 "nbformat": 4,
 "nbformat_minor": 4
}
