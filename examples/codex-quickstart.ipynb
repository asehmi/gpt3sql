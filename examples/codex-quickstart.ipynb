{
 "cells": [
  {
   "cell_type": "markdown",
   "metadata": {},
   "source": [
    "## Code Completion\n",
    "\n",
    "- [Quick Start](https://beta.openai.com/docs/guides/code/quickstart)\n",
    "- [More Examples](https://beta.openai.com/examples?category=code)\n",
    "\n",
    "Request to be added on Codex beta waitlist,\n",
    "\n",
    "The following examples use `text-davinci-002` model, which is less optimal than `codex`"
   ]
  },
  {
   "cell_type": "markdown",
   "metadata": {},
   "source": [
    "### Saying \"Hello\" (Python)"
   ]
  },
  {
   "cell_type": "code",
   "execution_count": 5,
   "metadata": {},
   "outputs": [
    {
     "name": "stdout",
     "output_type": "stream",
     "text": [
      "What is your name?\n",
      "John\n",
      "Hello, John\n"
     ]
    }
   ],
   "source": [
    "\"\"\"\n",
    "Ask the user for their name and say \"Hello\"\n",
    "\"\"\"\n",
    "print(\"What is your name?\")\n",
    "\n",
    "name = input()\n",
    "\n",
    "print(\"Hello, \" + name)"
   ]
  },
  {
   "cell_type": "markdown",
   "metadata": {},
   "source": [
    "### Create random names (Python)"
   ]
  },
  {
   "cell_type": "raw",
   "metadata": {},
   "source": [
    "\"\"\"\n",
    "Generate random names in python:\n",
    "1. Create a list of first names\n",
    "2. Create a list of last names\n",
    "3. Combine them randomly into a list of 100 full names \n",
    "\"\"\"\n",
    "from random import randint  # added my me\n",
    "\n",
    "names = [\"John\", \"Mary\", \"Jane\", \"Bob\"]\n",
    "lastnames = [\"Smith\", \"Jones\", \"Williams\"]\n",
    "\n",
    "fullnames = []\n",
    "\n",
    "for i in range(100):\n",
    "\n",
    "    fullnames.append(names[randint(0, len(names)-1)] + lastnames[randint(0, len(lastnames)-1)])\n",
    "\n",
    "print(fullnames)"
   ]
  },
  {
   "cell_type": "code",
   "execution_count": 10,
   "metadata": {},
   "outputs": [
    {
     "name": "stdout",
     "output_type": "stream",
     "text": [
      "0\n",
      "1\n",
      "2\n",
      "3\n",
      "4\n",
      "5\n",
      "6\n",
      "7\n",
      "8\n",
      "9\n",
      "10\n"
     ]
    }
   ],
   "source": [
    "# Python 3\n",
    "# Create a function to count to 10\n",
    "\n",
    "def counter():\n",
    "    for i in range(11):\n",
    "        print(i)\n",
    "\n",
    "counter()"
   ]
  },
  {
   "cell_type": "raw",
   "metadata": {},
   "source": [
    "# Python 3\n",
    "# Calculate the mean distance between an array of points and their cluster centroid\n",
    "def get_means(points, clusters, labels):\n",
    "    means = []\n",
    "    for cluster in clusters:\n",
    "        if len(cluster) == 0:\n",
    "            means.append(0)\n",
    "        else:\n",
    "            mean = np.mean(cluster, axis=0)\n",
    "            means.append(mean)\n",
    "    return means\n",
    "\n",
    "# Calculate the average distance of the points from their cluster centroid\n",
    "def calculate_means(points, clusters, labels):\n",
    "    means = get_means(points, clusters, labels)\n",
    "    \n",
    "    # Get the mean of the distances of each point to its cluster centroid\n",
    "    mean_distances = []\n",
    "    for i in range(0, len(points)):\n",
    "        mean_distance = get_distance(points[i], means[labels[i]])\n",
    "        mean_distances.append(mean_distance)\n",
    "    return np.mean(mean_distances)"
   ]
  },
  {
   "cell_type": "markdown",
   "metadata": {},
   "source": [
    "### Creat a query"
   ]
  },
  {
   "cell_type": "raw",
   "metadata": {},
   "source": [
    "# Table albums, columns = [AlbumId, Title, ArtistId]\n",
    "# Table artists, columns = [ArtistId, Name]\n",
    "# Table media_types, columns = [MediaTypeId, Name]\n",
    "# Table playlists, columns = [PlaylistId, Name]\n",
    "# Table playlist_track, columns = [PlaylistId, TrackId]\n",
    "# Table tracks, columns = [TrackId, Name, AlbumId, MediaTypeId, GenreId, Composer, Milliseconds, Bytes, UnitPrice]\n",
    "\n",
    "# Create a query for all albums by Adele\n",
    "\n",
    "Output:\n",
    "\n",
    "SELECT AlbumId, Title, ArtistId\n",
    "FROM Albums\n",
    "WHERE ArtistId = 'Adele'"
   ]
  },
  {
   "cell_type": "markdown",
   "metadata": {},
   "source": [
    "### Create a MySQL query (Python)"
   ]
  },
  {
   "cell_type": "code",
   "execution_count": 7,
   "metadata": {},
   "outputs": [],
   "source": [
    "\"\"\"\n",
    "Table customers, columns = [CustomerId, FirstName, LastName, Company, Address, City, State, Country, PostalCode, Phone, Fax, Email, SupportRepId]\n",
    "Create a MySQL query for all customers in Texas named Jane\n",
    "\"\"\"\n",
    "query = \"\"\"\n",
    "SELECT * FROM customers\n",
    "WHERE State='TX'\n",
    "AND FirstName='Jane'\n",
    "\"\"\""
   ]
  },
  {
   "cell_type": "markdown",
   "metadata": {},
   "source": [
    "The following is a Python script that will create a MySQL table called \"customers\" with the following columns: CustomerId, FirstName, LastName, Company, Address, City, State, Country, PostalCode, Phone, Fax, Email, SupportRepId."
   ]
  },
  {
   "cell_type": "code",
   "execution_count": 8,
   "metadata": {},
   "outputs": [
    {
     "ename": "ModuleNotFoundError",
     "evalue": "No module named 'MySQLdb'",
     "output_type": "error",
     "traceback": [
      "\u001b[1;31m---------------------------------------------------------------------------\u001b[0m",
      "\u001b[1;31mModuleNotFoundError\u001b[0m                       Traceback (most recent call last)",
      "\u001b[1;32m<ipython-input-8-3b03726c5b51>\u001b[0m in \u001b[0;36m<module>\u001b[1;34m\u001b[0m\n\u001b[1;32m----> 1\u001b[1;33m \u001b[1;32mimport\u001b[0m \u001b[0mMySQLdb\u001b[0m\u001b[1;33m\u001b[0m\u001b[1;33m\u001b[0m\u001b[0m\n\u001b[0m\u001b[0;32m      2\u001b[0m \u001b[0mconn\u001b[0m \u001b[1;33m=\u001b[0m \u001b[0mMySQLdb\u001b[0m\u001b[1;33m.\u001b[0m\u001b[0mconnect\u001b[0m\u001b[1;33m(\u001b[0m\u001b[1;34m\"localhost\"\u001b[0m\u001b[1;33m,\u001b[0m\u001b[1;34m\"root\"\u001b[0m\u001b[1;33m,\u001b[0m\u001b[1;34m\"\"\u001b[0m\u001b[1;33m,\u001b[0m\u001b[1;34m\"customers\"\u001b[0m\u001b[1;33m)\u001b[0m\u001b[1;33m\u001b[0m\u001b[1;33m\u001b[0m\u001b[0m\n\u001b[0;32m      3\u001b[0m \u001b[0mcursor\u001b[0m \u001b[1;33m=\u001b[0m \u001b[0mconn\u001b[0m\u001b[1;33m.\u001b[0m\u001b[0mcursor\u001b[0m\u001b[1;33m(\u001b[0m\u001b[1;33m)\u001b[0m\u001b[1;33m\u001b[0m\u001b[1;33m\u001b[0m\u001b[0m\n\u001b[0;32m      4\u001b[0m cursor.execute(\"\"\"\n\u001b[0;32m      5\u001b[0m \u001b[0mCREATE\u001b[0m \u001b[0mTABLE\u001b[0m \u001b[0mcustomers\u001b[0m\u001b[1;33m\u001b[0m\u001b[1;33m\u001b[0m\u001b[0m\n",
      "\u001b[1;31mModuleNotFoundError\u001b[0m: No module named 'MySQLdb'"
     ]
    }
   ],
   "source": [
    "import MySQLdb\n",
    "conn = MySQLdb.connect(\"localhost\",\"root\",\"\",\"customers\")\n",
    "cursor = conn.cursor()\n",
    "cursor.execute(\"\"\"\n",
    "CREATE TABLE customers\n",
    "(\n",
    "CustomerId INT UNSIGNED AUTO_INCREMENT PRIMARY KEY,\n",
    "FirstName VARCHAR(255),\n",
    "LastName VARCHAR(255),\n",
    "Company VARCHAR(255),\n",
    "Address VARCHAR(255),\n",
    "City VARCHAR(255),\n",
    "State VARCHAR(255),\n",
    "Country VARCHAR(255),\n",
    "PostalCode VARCHAR(255),\n",
    "Phone VARCHAR(255),\n",
    "Fax VARCHAR(255),\n",
    "Email VARCHAR(255),\n",
    "SupportRepId INT\n",
    ")\n",
    "\"\"\")\n",
    "conn.commit()\n",
    "conn.close()"
   ]
  },
  {
   "cell_type": "markdown",
   "metadata": {},
   "source": [
    "### Explaining code (JavaScript)"
   ]
  },
  {
   "cell_type": "raw",
   "metadata": {},
   "source": [
    "// Function 1\n",
    "var fullNames = [];\n",
    "for (var i = 0; i < 50; i++) {\n",
    "  fullNames.push(names[Math.floor(Math.random() * names.length)]\n",
    "    + \" \" + lastNames[Math.floor(Math.random() * lastNames.length)]);\n",
    "}\n",
    "\n",
    "// What does Function 1 do?\n",
    "\n",
    "Output:\n",
    "\n",
    "// Function 1 creates a list of 50 first and last names"
   ]
  },
  {
   "cell_type": "markdown",
   "metadata": {},
   "source": [
    "### Create sample data"
   ]
  },
  {
   "cell_type": "raw",
   "metadata": {},
   "source": [
    "/* Create an array of weather temperatures for San Francisco */\n",
    "\n",
    "var weather = [\n",
    "    {\n",
    "        \"day\": \"Jan 1\",\n",
    "        \"temperature\": 60\n",
    "    },\n",
    "    {\n",
    "        \"day\": \"Jan 2\",\n",
    "        \"temperature\": 58\n",
    "    },\n",
    "    {\n",
    "        \"day\": \"Jan 3\",\n",
    "        \"temperature\": 57\n",
    "    },\n",
    "    {\n",
    "        \"day\": \"Jan 4\",\n",
    "        \"temperature\": 60\n",
    "    },\n",
    "    {\n",
    "        \"day\": \"Jan 5\",\n",
    "        \"temperature\": 62\n",
    "    },\n",
    "    {\n",
    "        \"day\": \"Jan 6\",\n",
    "        \"temperature\": 65\n",
    "    },\n",
    "    {\n",
    "        \"day\": \"Jan 7\",\n",
    "        \"temperature\": 65\n",
    "    },\n",
    "    {\n",
    "        \"day\": \"Jan 8\",\n",
    "        \"temperature\": 64\n",
    "    },\n",
    "    {\n",
    "        \"day\": \"Jan 9\",\n",
    "        \"temperature\": 64\n",
    "    },\n",
    "    {\n",
    "        \"day\": \"Jan 10\",\n",
    "        \"temperature\": 63\n",
    "    },\n",
    "    {\n",
    "        \"day\": \"Jan 11\",\n",
    "        \"temperature\": 60\n",
    "    }\n",
    "]"
   ]
  },
  {
   "cell_type": "markdown",
   "metadata": {},
   "source": [
    "### Create and Explain an SQL query"
   ]
  },
  {
   "cell_type": "markdown",
   "metadata": {},
   "source": [
    "#### Create query"
   ]
  },
  {
   "cell_type": "raw",
   "metadata": {},
   "source": [
    "# Table department, columns = [Id, Name]\n",
    "# Table employee, columns = [Id, department_id]\n",
    "# Table salary_payments, columns = [Id, employee_id, date]\n",
    "\n",
    "# Create a query to find out the name of departments where more than 10 employees were paid their salary in the month of June 2020.\n",
    "\n",
    "Output:\n",
    "\n",
    "select d.name as 'Department Name'\n",
    "from department as d\n",
    "join employee as e on d.id = e.department_id\n",
    "join salary_payments as s on s.employee_id = e.id\n",
    "where s.date like 'June 2020'\n",
    "group by d.name\n",
    "having count(*) > 10"
   ]
  },
  {
   "cell_type": "markdown",
   "metadata": {},
   "source": [
    "#### Explain query"
   ]
  },
  {
   "cell_type": "raw",
   "metadata": {},
   "source": [
    "SELECT DISTINCT department.name\n",
    "FROM department\n",
    "JOIN employee ON department.id = employee.department_id\n",
    "JOIN salary_payments ON employee.id = salary_payments.employee_id\n",
    "WHERE salary_payments.date BETWEEN '2020-06-01' AND '2020-06-30'\n",
    "GROUP BY department.name\n",
    "HAVING COUNT(employee.id) > 10;\n",
    "-- Explanation of the above query in human readable format\n",
    "-- \n",
    "\n",
    "Output:\n",
    "-- Get all departments that have at least 10 employees who were paid salary in June 2020"
   ]
  },
  {
   "cell_type": "code",
   "execution_count": null,
   "metadata": {},
   "outputs": [],
   "source": []
  }
 ],
 "metadata": {
  "kernelspec": {
   "display_name": "Python 3",
   "language": "python",
   "name": "python3"
  },
  "language_info": {
   "codemirror_mode": {
    "name": "ipython",
    "version": 3
   },
   "file_extension": ".py",
   "mimetype": "text/x-python",
   "name": "python",
   "nbconvert_exporter": "python",
   "pygments_lexer": "ipython3",
   "version": "3.8.5"
  },
  "toc": {
   "base_numbering": 1,
   "nav_menu": {},
   "number_sections": true,
   "sideBar": true,
   "skip_h1_title": false,
   "title_cell": "Table of Contents",
   "title_sidebar": "Contents",
   "toc_cell": false,
   "toc_position": {},
   "toc_section_display": true,
   "toc_window_display": false
  }
 },
 "nbformat": 4,
 "nbformat_minor": 4
}
