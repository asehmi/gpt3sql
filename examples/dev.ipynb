{
 "cells": [
  {
   "cell_type": "code",
   "execution_count": 1,
   "metadata": {},
   "outputs": [],
   "source": [
    "import yaml"
   ]
  },
  {
   "cell_type": "code",
   "execution_count": 2,
   "metadata": {},
   "outputs": [
    {
     "name": "stdout",
     "output_type": "stream",
     "text": [
      "C:\\Users\\w_gon\\projects\\GPT-3\\gpt3sql\\examples\n"
     ]
    }
   ],
   "source": [
    "!cd"
   ]
  },
  {
   "cell_type": "code",
   "execution_count": 5,
   "metadata": {},
   "outputs": [],
   "source": [
    "with open(\"../app/cfg/settings.yaml\") as f:\n",
    "    CFG = yaml.load(f.read(), Loader=yaml.SafeLoader)"
   ]
  },
  {
   "cell_type": "code",
   "execution_count": 6,
   "metadata": {},
   "outputs": [
    {
     "data": {
      "text/plain": [
       "{'Mode': ['Complete', 'Insert', 'Edit'],\n",
       " 'Model': ['davinci-instruct-beta', 'text-davinci-002', 'text-davinci-001'],\n",
       " 'Temperature': 0.1,\n",
       " 'Maximum_length': 256,\n",
       " 'Input_prefix': 'input: ',\n",
       " 'Input_suffix': '\\n',\n",
       " 'Output_prefix': 'output: ',\n",
       " 'Output_suffix': '\\n\\n',\n",
       " 'DB_FILE': 'db/gpt3sql.sqlite'}"
      ]
     },
     "execution_count": 6,
     "metadata": {},
     "output_type": "execute_result"
    }
   ],
   "source": [
    "CFG"
   ]
  },
  {
   "cell_type": "code",
   "execution_count": 10,
   "metadata": {},
   "outputs": [],
   "source": [
    "modes = CFG['Mode']"
   ]
  },
  {
   "cell_type": "code",
   "execution_count": 11,
   "metadata": {},
   "outputs": [],
   "source": [
    "x = modes.pop(modes.index(\"Edit\"))"
   ]
  },
  {
   "cell_type": "code",
   "execution_count": 13,
   "metadata": {},
   "outputs": [
    {
     "data": {
      "text/plain": [
       "['Complete', 'Insert']"
      ]
     },
     "execution_count": 13,
     "metadata": {},
     "output_type": "execute_result"
    }
   ],
   "source": [
    "modes"
   ]
  },
  {
   "cell_type": "code",
   "execution_count": 14,
   "metadata": {},
   "outputs": [],
   "source": [
    "modes.insert(0, \"Edit\")"
   ]
  },
  {
   "cell_type": "code",
   "execution_count": 15,
   "metadata": {},
   "outputs": [
    {
     "data": {
      "text/plain": [
       "['Edit', 'Complete', 'Insert']"
      ]
     },
     "execution_count": 15,
     "metadata": {},
     "output_type": "execute_result"
    }
   ],
   "source": [
    "modes"
   ]
  },
  {
   "cell_type": "code",
   "execution_count": 29,
   "metadata": {},
   "outputs": [],
   "source": [
    "def move_item_to_first(lst, item):\n",
    "    \"\"\"Move item found in a list to position 0\n",
    "    \"\"\"\n",
    "    try:\n",
    "        idx = lst.index(item)\n",
    "    except:\n",
    "        idx = -1\n",
    "    if idx < 1:\n",
    "        return lst\n",
    "    \n",
    "    lst_new = lst.copy()\n",
    "    lst_new.pop(idx)\n",
    "    lst_new.insert(0, item)\n",
    "    return lst_new"
   ]
  },
  {
   "cell_type": "code",
   "execution_count": 30,
   "metadata": {},
   "outputs": [
    {
     "data": {
      "text/plain": [
       "['Complete', 'Edit', 'Insert']"
      ]
     },
     "execution_count": 30,
     "metadata": {},
     "output_type": "execute_result"
    }
   ],
   "source": [
    "move_item_to_first(CFG['Mode'], \"Complete\")"
   ]
  },
  {
   "cell_type": "code",
   "execution_count": 31,
   "metadata": {},
   "outputs": [
    {
     "data": {
      "text/plain": [
       "['Edit', 'Complete', 'Insert']"
      ]
     },
     "execution_count": 31,
     "metadata": {},
     "output_type": "execute_result"
    }
   ],
   "source": [
    "CFG['Mode']"
   ]
  },
  {
   "cell_type": "code",
   "execution_count": 1,
   "metadata": {},
   "outputs": [],
   "source": [
    "d = {'Mode': None, 'Model': 'davinci-instruct-beta', 'Temperature': 0, 'Maximum_length': 256}"
   ]
  },
  {
   "cell_type": "code",
   "execution_count": 2,
   "metadata": {},
   "outputs": [
    {
     "data": {
      "text/plain": [
       "{'Mode': None,\n",
       " 'Model': 'davinci-instruct-beta',\n",
       " 'Temperature': 0,\n",
       " 'Maximum_length': 256}"
      ]
     },
     "execution_count": 2,
     "metadata": {},
     "output_type": "execute_result"
    }
   ],
   "source": [
    "d"
   ]
  },
  {
   "cell_type": "code",
   "execution_count": 3,
   "metadata": {},
   "outputs": [
    {
     "data": {
      "text/plain": [
       "\"{'Mode': None, 'Model': 'davinci-instruct-beta', 'Temperature': 0, 'Maximum_length': 256}\""
      ]
     },
     "execution_count": 3,
     "metadata": {},
     "output_type": "execute_result"
    }
   ],
   "source": [
    "str(d)"
   ]
  },
  {
   "cell_type": "code",
   "execution_count": 12,
   "metadata": {},
   "outputs": [],
   "source": [
    "def escape_single_quote(s):\n",
    "    return s.replace(\"\\'\", \"\\'\\'\")\n",
    "\n",
    "def unescape_single_quote(s):\n",
    "    return s.replace(\"\\'\\'\", \"\\'\")"
   ]
  },
  {
   "cell_type": "code",
   "execution_count": 15,
   "metadata": {},
   "outputs": [
    {
     "data": {
      "text/plain": [
       "\"{''Mode'': None, ''Model'': ''davinci-instruct-beta'', ''Temperature'': 0, ''Maximum_length'': 256}\""
      ]
     },
     "execution_count": 15,
     "metadata": {},
     "output_type": "execute_result"
    }
   ],
   "source": [
    "escape_single_quote(str(d))"
   ]
  },
  {
   "cell_type": "code",
   "execution_count": 16,
   "metadata": {},
   "outputs": [
    {
     "data": {
      "text/plain": [
       "\"{'Mode': None, 'Model': 'davinci-instruct-beta', 'Temperature': 0, 'Maximum_length': 256}\""
      ]
     },
     "execution_count": 16,
     "metadata": {},
     "output_type": "execute_result"
    }
   ],
   "source": [
    "unescape_single_quote(escape_single_quote(str(d)))"
   ]
  },
  {
   "cell_type": "code",
   "execution_count": 7,
   "metadata": {},
   "outputs": [
    {
     "data": {
      "text/plain": [
       "\"a'b\""
      ]
     },
     "execution_count": 7,
     "metadata": {},
     "output_type": "execute_result"
    }
   ],
   "source": [
    "s"
   ]
  },
  {
   "cell_type": "code",
   "execution_count": 8,
   "metadata": {},
   "outputs": [],
   "source": [
    "x = s.replace(\"\\'\", \"\\'\\'\")"
   ]
  },
  {
   "cell_type": "code",
   "execution_count": 9,
   "metadata": {},
   "outputs": [
    {
     "data": {
      "text/plain": [
       "\"a''b\""
      ]
     },
     "execution_count": 9,
     "metadata": {},
     "output_type": "execute_result"
    }
   ],
   "source": [
    "x"
   ]
  },
  {
   "cell_type": "code",
   "execution_count": 17,
   "metadata": {},
   "outputs": [],
   "source": [
    "data = {'uuid': '400f2586-2d36-4bc7-b762-b73971d8a267', 'ts': '2022-10-17 16:07:26.615765', 'output': \"SELECT * FROM customers WHERE State='TX' AND FirstName='Richard';\\n\\n\"}"
   ]
  },
  {
   "cell_type": "code",
   "execution_count": 18,
   "metadata": {},
   "outputs": [
    {
     "data": {
      "text/plain": [
       "3"
      ]
     },
     "execution_count": 18,
     "metadata": {},
     "output_type": "execute_result"
    }
   ],
   "source": [
    "len(data)"
   ]
  },
  {
   "cell_type": "code",
   "execution_count": 21,
   "metadata": {},
   "outputs": [],
   "source": [
    "def prime_numbers(n):\n",
    "    \"\"\"\n",
    "    Calculate first 100 prime numbers\n",
    "    \"\"\"\n",
    "    primes = [2]\n",
    "    for i in range(3, n+1):\n",
    "        divisible = None\n",
    "        for j in range(2, i):\n",
    "            if i % j == 0:\n",
    "                divisible = True\n",
    "                break\n",
    "        if divisible is None:\n",
    "            primes.append(i)\n",
    "    return primes"
   ]
  },
  {
   "cell_type": "code",
   "execution_count": 24,
   "metadata": {},
   "outputs": [
    {
     "name": "stdout",
     "output_type": "stream",
     "text": [
      "[2, 3, 5, 7, 11, 13, 17, 19, 23, 29, 31, 37, 41, 43, 47, 53, 59, 61, 67, 71, 73, 79, 83, 89, 97]\n"
     ]
    }
   ],
   "source": [
    "print(prime_numbers(100))"
   ]
  },
  {
   "cell_type": "code",
   "execution_count": 13,
   "metadata": {},
   "outputs": [
    {
     "data": {
      "text/plain": [
       "1"
      ]
     },
     "execution_count": 13,
     "metadata": {},
     "output_type": "execute_result"
    }
   ],
   "source": [
    "4 % 3"
   ]
  },
  {
   "cell_type": "markdown",
   "metadata": {},
   "source": [
    "### How to execute python code as string\n",
    "\n",
    "https://stackoverflow.com/questions/701802/how-do-i-execute-a-string-containing-python-code-in-python"
   ]
  },
  {
   "cell_type": "code",
   "execution_count": null,
   "metadata": {},
   "outputs": [],
   "source": [
    "import math\n",
    "def is_prime(n):\n",
    "    if n == 2:\n",
    "        return True\n",
    "    if n % 2 == 0 or n <= 1:\n",
    "        return False\n",
    "\n",
    "    sqr = int(math.sqrt(n)) + 1\n",
    "\n",
    "    for divisor in range(3, sqr, 2):\n",
    "        if n % divisor == 0:\n",
    "            return False\n",
    "    return True\n",
    "\n",
    "\n",
    "def get_primes(n):\n",
    "    number_of_primes = 0\n",
    "    prime = 1\n",
    "\n",
    "    while number_of_primes < n:\n",
    "        prime += 1\n",
    "        if is_prime(prime):\n",
    "            print(prime)\n",
    "            number_of_primes += 1"
   ]
  },
  {
   "cell_type": "code",
   "execution_count": 4,
   "metadata": {},
   "outputs": [],
   "source": [
    "gen_code = \"\"\"\n",
    "import math\n",
    "def is_prime(n):\n",
    "    if n == 2:\n",
    "        return True\n",
    "    if n % 2 == 0 or n <= 1:\n",
    "        return False\n",
    "\n",
    "    sqr = int(math.sqrt(n)) + 1\n",
    "\n",
    "    for divisor in range(3, sqr, 2):\n",
    "        if n % divisor == 0:\n",
    "            return False\n",
    "    return True\n",
    "\n",
    "\n",
    "def get_primes(n):\n",
    "    number_of_primes = 0\n",
    "    prime = 1\n",
    "\n",
    "    while number_of_primes < n:\n",
    "        prime += 1\n",
    "        if is_prime(prime):\n",
    "            print(prime)\n",
    "            number_of_primes += 1\n",
    "            \n",
    "get_primes(10)\n",
    "\"\"\""
   ]
  },
  {
   "cell_type": "code",
   "execution_count": 3,
   "metadata": {},
   "outputs": [
    {
     "name": "stdout",
     "output_type": "stream",
     "text": [
      "2\n",
      "3\n",
      "5\n",
      "7\n",
      "11\n",
      "13\n",
      "17\n",
      "19\n",
      "23\n",
      "29\n"
     ]
    }
   ],
   "source": [
    "get_primes(10)"
   ]
  },
  {
   "cell_type": "code",
   "execution_count": 5,
   "metadata": {},
   "outputs": [
    {
     "ename": "SyntaxError",
     "evalue": "invalid syntax (<string>, line 2)",
     "output_type": "error",
     "traceback": [
      "Traceback \u001b[1;36m(most recent call last)\u001b[0m:\n",
      "  File \u001b[0;32m\"C:\\Anaconda3\\lib\\site-packages\\IPython\\core\\interactiveshell.py\"\u001b[0m, line \u001b[0;32m3418\u001b[0m, in \u001b[0;35mrun_code\u001b[0m\n    exec(code_obj, self.user_global_ns, self.user_ns)\n",
      "\u001b[1;36m  File \u001b[1;32m\"<ipython-input-5-eb6bc335b598>\"\u001b[1;36m, line \u001b[1;32m1\u001b[1;36m, in \u001b[1;35m<module>\u001b[1;36m\u001b[0m\n\u001b[1;33m    eval(gen_code)\u001b[0m\n",
      "\u001b[1;36m  File \u001b[1;32m\"<string>\"\u001b[1;36m, line \u001b[1;32m2\u001b[0m\n\u001b[1;33m    import math\u001b[0m\n\u001b[1;37m    ^\u001b[0m\n\u001b[1;31mSyntaxError\u001b[0m\u001b[1;31m:\u001b[0m invalid syntax\n"
     ]
    }
   ],
   "source": [
    "eval(gen_code)"
   ]
  },
  {
   "cell_type": "code",
   "execution_count": 21,
   "metadata": {},
   "outputs": [],
   "source": [
    "import sys\n",
    "from io import StringIO\n",
    "\n",
    "# create file-like string to capture output\n",
    "codeOut = StringIO()\n",
    "codeErr = StringIO()\n",
    "\n",
    "code = \"\"\"\n",
    "def f(x):\n",
    "    x = x + 1\n",
    "    return x\n",
    "\n",
    "print ('This is my output.')\n",
    "\n",
    "print (f(4))\n",
    "\"\"\"\n",
    "\n",
    "# capture output and errors\n",
    "sys.stdout = codeOut\n",
    "sys.stderr = codeErr\n",
    "\n",
    "exec (code)\n",
    "\n",
    "# restore stdout and stderr\n",
    "sys.stdout = sys.__stdout__\n",
    "sys.stderr = sys.__stderr__\n",
    "\n",
    "print(f\"\"\"\n",
    "Output: {codeOut.getvalue()}\n",
    "Error: {codeErr.getvalue()}\n",
    "\"\"\")\n",
    "\n",
    "codeOut.close()\n",
    "codeErr.close()"
   ]
  },
  {
   "cell_type": "code",
   "execution_count": 45,
   "metadata": {},
   "outputs": [],
   "source": [
    "def _execute_code(code):\n",
    "    # https://stackoverflow.com/questions/11914472/how-to-use-stringio-in-python3\n",
    "    # create file-like string to capture output\n",
    "    codeOut = StringIO()\n",
    "    codeErr = StringIO()\n",
    "    # capture output and errors\n",
    "    sys.stdout = codeOut\n",
    "    sys.stderr = codeErr\n",
    "    exec(compile(code, '', 'exec'))\n",
    "    # restore stdout and stderr\n",
    "    sys.stdout = sys.__stdout__\n",
    "    sys.stderr = sys.__stderr__\n",
    "    if codeOut:\n",
    "        print(codeOut.getvalue())\n",
    "    if codeErr:\n",
    "        print(codeErr.getvalue())"
   ]
  },
  {
   "cell_type": "code",
   "execution_count": 49,
   "metadata": {},
   "outputs": [],
   "source": [
    "code = \"\"\"\n",
    "import math\n",
    "\n",
    "def is_prime(n):\n",
    "    if n == 2:\n",
    "        return True\n",
    "    if n % 2 == 0 or n <= 1:\n",
    "        return False\n",
    "\n",
    "    sqr = int(math.sqrt(n)) + 1\n",
    "\n",
    "    for divisor in range(3, sqr, 2):\n",
    "        if n % divisor == 0:\n",
    "            return False\n",
    "    return True\n",
    "\n",
    "\n",
    "def get_primes(n):\n",
    "    number_of_primes = 0\n",
    "    prime = 1\n",
    "\n",
    "    while number_of_primes < n:\n",
    "        prime += 1\n",
    "        if is_prime(prime):\n",
    "            print(prime)\n",
    "            number_of_primes += 1\n",
    "\n",
    "\n",
    "get_primes(10)\n",
    "\"\"\""
   ]
  },
  {
   "cell_type": "code",
   "execution_count": 52,
   "metadata": {},
   "outputs": [],
   "source": [
    "x = _execute_code(code)"
   ]
  },
  {
   "cell_type": "code",
   "execution_count": 54,
   "metadata": {},
   "outputs": [],
   "source": [
    "import math\n",
    "\n",
    "def is_prime(n):\n",
    "    if n == 2:\n",
    "        return True\n",
    "    if n % 2 == 0 or n <= 1:\n",
    "        return False\n",
    "\n",
    "    sqr = int(math.sqrt(n)) + 1\n",
    "\n",
    "    for divisor in range(3, sqr, 2):\n",
    "        if n % divisor == 0:\n",
    "            return False\n",
    "    return True\n",
    "\n",
    "\n",
    "def get_primes(n):\n",
    "    number_of_primes = 0\n",
    "    prime = 1\n",
    "\n",
    "    while number_of_primes < n:\n",
    "        prime += 1\n",
    "        if is_prime(prime):\n",
    "            print(prime)\n",
    "            number_of_primes += 1\n",
    "\n",
    "\n",
    "get_primes(100)"
   ]
  },
  {
   "cell_type": "code",
   "execution_count": 1,
   "metadata": {},
   "outputs": [],
   "source": [
    "def _remove_leading_hash(s):\n",
    "    lines = []\n",
    "    for i in s.split(\"\\n\"):\n",
    "        i = i.strip()\n",
    "        if (len(i) > 0 and i[0] == \"#\"):\n",
    "            lines.append(i[1:])\n",
    "        else:\n",
    "            lines.append(i)\n",
    "    return \"\\n\".join(lines)"
   ]
  },
  {
   "cell_type": "code",
   "execution_count": 2,
   "metadata": {},
   "outputs": [],
   "source": [
    "s = \"\"\"\n",
    "# line1\n",
    "# line 2\n",
    "\n",
    "\"\"\""
   ]
  },
  {
   "cell_type": "code",
   "execution_count": 3,
   "metadata": {},
   "outputs": [
    {
     "name": "stdout",
     "output_type": "stream",
     "text": [
      "\n",
      " line1\n",
      " line 2\n",
      "\n",
      "\n"
     ]
    }
   ],
   "source": [
    "print(_remove_leading_hash(s))"
   ]
  },
  {
   "cell_type": "code",
   "execution_count": 59,
   "metadata": {},
   "outputs": [
    {
     "data": {
      "text/plain": [
       "'\\n# line1\\n# line 2\\n\\n'"
      ]
     },
     "execution_count": 59,
     "metadata": {},
     "output_type": "execute_result"
    }
   ],
   "source": [
    "s"
   ]
  },
  {
   "cell_type": "code",
   "execution_count": 62,
   "metadata": {},
   "outputs": [],
   "source": [
    "x = _remove_leading_hash(s)"
   ]
  },
  {
   "cell_type": "code",
   "execution_count": 63,
   "metadata": {},
   "outputs": [
    {
     "data": {
      "text/plain": [
       "'\\n line1\\n line 2\\n\\n'"
      ]
     },
     "execution_count": 63,
     "metadata": {},
     "output_type": "execute_result"
    }
   ],
   "source": [
    "x"
   ]
  },
  {
   "cell_type": "code",
   "execution_count": 64,
   "metadata": {},
   "outputs": [],
   "source": [
    "print(x)"
   ]
  },
  {
   "cell_type": "code",
   "execution_count": null,
   "metadata": {},
   "outputs": [],
   "source": []
  }
 ],
 "metadata": {
  "kernelspec": {
   "display_name": "Python 3",
   "language": "python",
   "name": "python3"
  },
  "language_info": {
   "codemirror_mode": {
    "name": "ipython",
    "version": 3
   },
   "file_extension": ".py",
   "mimetype": "text/x-python",
   "name": "python",
   "nbconvert_exporter": "python",
   "pygments_lexer": "ipython3",
   "version": "3.8.5"
  },
  "toc": {
   "base_numbering": 1,
   "nav_menu": {},
   "number_sections": true,
   "sideBar": true,
   "skip_h1_title": false,
   "title_cell": "Table of Contents",
   "title_sidebar": "Contents",
   "toc_cell": false,
   "toc_position": {},
   "toc_section_display": true,
   "toc_window_display": false
  }
 },
 "nbformat": 4,
 "nbformat_minor": 4
}
